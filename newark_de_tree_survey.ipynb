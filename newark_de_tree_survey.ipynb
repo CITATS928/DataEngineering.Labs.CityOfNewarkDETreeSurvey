{
 "cells": [
  {
   "cell_type": "code",
   "execution_count": 1,
   "metadata": {},
   "outputs": [],
   "source": [
    "import pandas as pd\n",
    "import numpy as np"
   ]
  },
  {
   "cell_type": "markdown",
   "metadata": {},
   "source": [
    "# Read a comma-separated values (csv) file into DataFrame.\n",
    "\n",
    "The data folder contains a file named \"newark_tree_data.csv\". Read this file into a dataframe.\n",
    "\n",
    "\n",
    "resources:\n",
    "* [Pandas read csv docs](https://pandas.pydata.org/pandas-docs/stable/reference/api/pandas.read_csv.html#pandas.read_csv)"
   ]
  },
  {
   "cell_type": "code",
   "execution_count": 3,
   "metadata": {},
   "outputs": [],
   "source": [
    "# Create DataFrame here.\n",
    "data=pd.read_csv('data/newark_tree_data.csv')"
   ]
  },
  {
   "cell_type": "code",
   "execution_count": 4,
   "metadata": {},
   "outputs": [
    {
     "data": {
      "text/html": [
       "<div>\n",
       "<style scoped>\n",
       "    .dataframe tbody tr th:only-of-type {\n",
       "        vertical-align: middle;\n",
       "    }\n",
       "\n",
       "    .dataframe tbody tr th {\n",
       "        vertical-align: top;\n",
       "    }\n",
       "\n",
       "    .dataframe thead th {\n",
       "        text-align: right;\n",
       "    }\n",
       "</style>\n",
       "<table border=\"1\" class=\"dataframe\">\n",
       "  <thead>\n",
       "    <tr style=\"text-align: right;\">\n",
       "      <th></th>\n",
       "      <th>ID</th>\n",
       "      <th>ON</th>\n",
       "      <th>AREA</th>\n",
       "      <th>ADDRESS</th>\n",
       "      <th>STREET</th>\n",
       "      <th>SITE</th>\n",
       "      <th>SIDE</th>\n",
       "      <th>ASSIGNED</th>\n",
       "      <th>COMMON</th>\n",
       "      <th>BOTANICAL</th>\n",
       "      <th>...</th>\n",
       "      <th>IMPROPMULC</th>\n",
       "      <th>IMPROPPRUN</th>\n",
       "      <th>NUTRIENTD</th>\n",
       "      <th>PEST</th>\n",
       "      <th>GIRDLING</th>\n",
       "      <th>STRESS</th>\n",
       "      <th>OHUTILITY</th>\n",
       "      <th>TOP_HEIGHT</th>\n",
       "      <th>CROWN_M</th>\n",
       "      <th>CROWN_DIE</th>\n",
       "    </tr>\n",
       "  </thead>\n",
       "  <tbody>\n",
       "    <tr>\n",
       "      <th>0</th>\n",
       "      <td>11.0</td>\n",
       "      <td>Elan Park</td>\n",
       "      <td>Elan Park</td>\n",
       "      <td>2</td>\n",
       "      <td>Blue Hen Rg</td>\n",
       "      <td>11.0</td>\n",
       "      <td>Front</td>\n",
       "      <td>False</td>\n",
       "      <td>arborvitae, eastern</td>\n",
       "      <td>Thuja occidentalis</td>\n",
       "      <td>...</td>\n",
       "      <td>False</td>\n",
       "      <td>False</td>\n",
       "      <td>False</td>\n",
       "      <td>False</td>\n",
       "      <td>False</td>\n",
       "      <td>False</td>\n",
       "      <td>No</td>\n",
       "      <td>40</td>\n",
       "      <td>0-5%</td>\n",
       "      <td>0-5%</td>\n",
       "    </tr>\n",
       "    <tr>\n",
       "      <th>1</th>\n",
       "      <td>12.0</td>\n",
       "      <td>Elan Park</td>\n",
       "      <td>Elan Park</td>\n",
       "      <td>2</td>\n",
       "      <td>Blue Hen Rg</td>\n",
       "      <td>12.0</td>\n",
       "      <td>Front</td>\n",
       "      <td>False</td>\n",
       "      <td>arborvitae, eastern</td>\n",
       "      <td>Thuja occidentalis</td>\n",
       "      <td>...</td>\n",
       "      <td>False</td>\n",
       "      <td>False</td>\n",
       "      <td>False</td>\n",
       "      <td>False</td>\n",
       "      <td>False</td>\n",
       "      <td>False</td>\n",
       "      <td>No</td>\n",
       "      <td>41</td>\n",
       "      <td>0-5%</td>\n",
       "      <td>0-5%</td>\n",
       "    </tr>\n",
       "    <tr>\n",
       "      <th>2</th>\n",
       "      <td>13.0</td>\n",
       "      <td>Elan Park</td>\n",
       "      <td>Elan Park</td>\n",
       "      <td>2</td>\n",
       "      <td>Blue Hen Rg</td>\n",
       "      <td>13.0</td>\n",
       "      <td>Front</td>\n",
       "      <td>False</td>\n",
       "      <td>pine, eastern white</td>\n",
       "      <td>Pinus strobus</td>\n",
       "      <td>...</td>\n",
       "      <td>False</td>\n",
       "      <td>False</td>\n",
       "      <td>False</td>\n",
       "      <td>False</td>\n",
       "      <td>True</td>\n",
       "      <td>False</td>\n",
       "      <td>No</td>\n",
       "      <td>54</td>\n",
       "      <td>0-5%</td>\n",
       "      <td>6-10%</td>\n",
       "    </tr>\n",
       "    <tr>\n",
       "      <th>3</th>\n",
       "      <td>14.0</td>\n",
       "      <td>Elan Park</td>\n",
       "      <td>Elan Park</td>\n",
       "      <td>2</td>\n",
       "      <td>Blue Hen Rg</td>\n",
       "      <td>14.0</td>\n",
       "      <td>Front</td>\n",
       "      <td>False</td>\n",
       "      <td>whitecedar, Atlantic</td>\n",
       "      <td>Chamaecyparis thyoides</td>\n",
       "      <td>...</td>\n",
       "      <td>False</td>\n",
       "      <td>False</td>\n",
       "      <td>False</td>\n",
       "      <td>False</td>\n",
       "      <td>True</td>\n",
       "      <td>False</td>\n",
       "      <td>No</td>\n",
       "      <td>57</td>\n",
       "      <td>11-15%</td>\n",
       "      <td>26-30%</td>\n",
       "    </tr>\n",
       "    <tr>\n",
       "      <th>4</th>\n",
       "      <td>15.0</td>\n",
       "      <td>Elan Park</td>\n",
       "      <td>Elan Park</td>\n",
       "      <td>2</td>\n",
       "      <td>Blue Hen Rg</td>\n",
       "      <td>15.0</td>\n",
       "      <td>Front</td>\n",
       "      <td>False</td>\n",
       "      <td>whitecedar, Atlantic</td>\n",
       "      <td>Chamaecyparis thyoides</td>\n",
       "      <td>...</td>\n",
       "      <td>False</td>\n",
       "      <td>False</td>\n",
       "      <td>False</td>\n",
       "      <td>False</td>\n",
       "      <td>True</td>\n",
       "      <td>False</td>\n",
       "      <td>No</td>\n",
       "      <td>55</td>\n",
       "      <td>11-15%</td>\n",
       "      <td>21-25%</td>\n",
       "    </tr>\n",
       "  </tbody>\n",
       "</table>\n",
       "<p>5 rows × 54 columns</p>\n",
       "</div>"
      ],
      "text/plain": [
       "     ID         ON       AREA  ADDRESS       STREET  SITE   SIDE  ASSIGNED  \\\n",
       "0  11.0  Elan Park  Elan Park        2  Blue Hen Rg  11.0  Front     False   \n",
       "1  12.0  Elan Park  Elan Park        2  Blue Hen Rg  12.0  Front     False   \n",
       "2  13.0  Elan Park  Elan Park        2  Blue Hen Rg  13.0  Front     False   \n",
       "3  14.0  Elan Park  Elan Park        2  Blue Hen Rg  14.0  Front     False   \n",
       "4  15.0  Elan Park  Elan Park        2  Blue Hen Rg  15.0  Front     False   \n",
       "\n",
       "                 COMMON               BOTANICAL  ... IMPROPMULC  IMPROPPRUN  \\\n",
       "0   arborvitae, eastern      Thuja occidentalis  ...      False       False   \n",
       "1   arborvitae, eastern      Thuja occidentalis  ...      False       False   \n",
       "2   pine, eastern white           Pinus strobus  ...      False       False   \n",
       "3  whitecedar, Atlantic  Chamaecyparis thyoides  ...      False       False   \n",
       "4  whitecedar, Atlantic  Chamaecyparis thyoides  ...      False       False   \n",
       "\n",
       "  NUTRIENTD   PEST GIRDLING STRESS  OHUTILITY  TOP_HEIGHT CROWN_M CROWN_DIE  \n",
       "0     False  False    False  False         No          40    0-5%      0-5%  \n",
       "1     False  False    False  False         No          41    0-5%      0-5%  \n",
       "2     False  False     True  False         No          54    0-5%     6-10%  \n",
       "3     False  False     True  False         No          57  11-15%    26-30%  \n",
       "4     False  False     True  False         No          55  11-15%    21-25%  \n",
       "\n",
       "[5 rows x 54 columns]"
      ]
     },
     "execution_count": 4,
     "metadata": {},
     "output_type": "execute_result"
    }
   ],
   "source": [
    "# Display the first few rows of the DataFrame here.\n",
    "data.head()"
   ]
  },
  {
   "cell_type": "code",
   "execution_count": 11,
   "metadata": {},
   "outputs": [
    {
     "data": {
      "text/html": [
       "<div>\n",
       "<style scoped>\n",
       "    .dataframe tbody tr th:only-of-type {\n",
       "        vertical-align: middle;\n",
       "    }\n",
       "\n",
       "    .dataframe tbody tr th {\n",
       "        vertical-align: top;\n",
       "    }\n",
       "\n",
       "    .dataframe thead th {\n",
       "        text-align: right;\n",
       "    }\n",
       "</style>\n",
       "<table border=\"1\" class=\"dataframe\">\n",
       "  <thead>\n",
       "    <tr style=\"text-align: right;\">\n",
       "      <th></th>\n",
       "      <th>ID</th>\n",
       "      <th>ON</th>\n",
       "      <th>AREA</th>\n",
       "      <th>ADDRESS</th>\n",
       "      <th>STREET</th>\n",
       "      <th>SITE</th>\n",
       "      <th>SIDE</th>\n",
       "      <th>ASSIGNED</th>\n",
       "      <th>COMMON</th>\n",
       "      <th>BOTANICAL</th>\n",
       "      <th>...</th>\n",
       "      <th>IMPROPMULC</th>\n",
       "      <th>IMPROPPRUN</th>\n",
       "      <th>NUTRIENTD</th>\n",
       "      <th>PEST</th>\n",
       "      <th>GIRDLING</th>\n",
       "      <th>STRESS</th>\n",
       "      <th>OHUTILITY</th>\n",
       "      <th>TOP_HEIGHT</th>\n",
       "      <th>CROWN_M</th>\n",
       "      <th>CROWN_DIE</th>\n",
       "    </tr>\n",
       "  </thead>\n",
       "  <tbody>\n",
       "    <tr>\n",
       "      <th>4188</th>\n",
       "      <td>4189.0</td>\n",
       "      <td>New London Rd</td>\n",
       "      <td>New London Road on EAST side North of Clevelan...</td>\n",
       "      <td>124</td>\n",
       "      <td>New London Rd</td>\n",
       "      <td>1.0</td>\n",
       "      <td>Front</td>\n",
       "      <td>False</td>\n",
       "      <td>Japanese pagodatree</td>\n",
       "      <td>Styphnolobium japonicum</td>\n",
       "      <td>...</td>\n",
       "      <td>False</td>\n",
       "      <td>False</td>\n",
       "      <td>False</td>\n",
       "      <td>False</td>\n",
       "      <td>False</td>\n",
       "      <td>False</td>\n",
       "      <td>No</td>\n",
       "      <td>50</td>\n",
       "      <td>16-20%</td>\n",
       "      <td>6-10%</td>\n",
       "    </tr>\n",
       "    <tr>\n",
       "      <th>4189</th>\n",
       "      <td>4190.0</td>\n",
       "      <td>New London Rd</td>\n",
       "      <td>New London Road on EAST side North of Clevelan...</td>\n",
       "      <td>126</td>\n",
       "      <td>New London Rd</td>\n",
       "      <td>1.0</td>\n",
       "      <td>Front</td>\n",
       "      <td>False</td>\n",
       "      <td>oak, sawtooth</td>\n",
       "      <td>Quercus acutissima</td>\n",
       "      <td>...</td>\n",
       "      <td>False</td>\n",
       "      <td>False</td>\n",
       "      <td>False</td>\n",
       "      <td>False</td>\n",
       "      <td>False</td>\n",
       "      <td>False</td>\n",
       "      <td>No</td>\n",
       "      <td>55</td>\n",
       "      <td>11-15%</td>\n",
       "      <td>6-10%</td>\n",
       "    </tr>\n",
       "    <tr>\n",
       "      <th>4190</th>\n",
       "      <td>4191.0</td>\n",
       "      <td>New London Rd</td>\n",
       "      <td>New London Road on EAST side North of Clevelan...</td>\n",
       "      <td>126</td>\n",
       "      <td>New London Rd</td>\n",
       "      <td>2.0</td>\n",
       "      <td>Front</td>\n",
       "      <td>False</td>\n",
       "      <td>Japanese pagodatree</td>\n",
       "      <td>Styphnolobium japonicum</td>\n",
       "      <td>...</td>\n",
       "      <td>False</td>\n",
       "      <td>False</td>\n",
       "      <td>False</td>\n",
       "      <td>False</td>\n",
       "      <td>False</td>\n",
       "      <td>False</td>\n",
       "      <td>No</td>\n",
       "      <td>45</td>\n",
       "      <td>16-20%</td>\n",
       "      <td>11-15%</td>\n",
       "    </tr>\n",
       "    <tr>\n",
       "      <th>4191</th>\n",
       "      <td>4192.0</td>\n",
       "      <td>Old Paper Mill Rd</td>\n",
       "      <td>Old Paper Mill Road Park</td>\n",
       "      <td>0</td>\n",
       "      <td>Old Paper Mill Rd</td>\n",
       "      <td>1.0</td>\n",
       "      <td>Front</td>\n",
       "      <td>False</td>\n",
       "      <td>sycamore, American</td>\n",
       "      <td>Platanus occidentalis</td>\n",
       "      <td>...</td>\n",
       "      <td>False</td>\n",
       "      <td>False</td>\n",
       "      <td>False</td>\n",
       "      <td>False</td>\n",
       "      <td>False</td>\n",
       "      <td>False</td>\n",
       "      <td>No</td>\n",
       "      <td>80</td>\n",
       "      <td>21-25%</td>\n",
       "      <td>6-10%</td>\n",
       "    </tr>\n",
       "    <tr>\n",
       "      <th>4192</th>\n",
       "      <td>4193.0</td>\n",
       "      <td>Old Paper Mill Rd</td>\n",
       "      <td>Old Paper Mill Road Park</td>\n",
       "      <td>0</td>\n",
       "      <td>Old Paper Mill Rd</td>\n",
       "      <td>2.0</td>\n",
       "      <td>Front</td>\n",
       "      <td>False</td>\n",
       "      <td>ash, white</td>\n",
       "      <td>Fraxinus americana</td>\n",
       "      <td>...</td>\n",
       "      <td>False</td>\n",
       "      <td>False</td>\n",
       "      <td>False</td>\n",
       "      <td>False</td>\n",
       "      <td>False</td>\n",
       "      <td>True</td>\n",
       "      <td>No</td>\n",
       "      <td>70</td>\n",
       "      <td>21-25%</td>\n",
       "      <td>11-15%</td>\n",
       "    </tr>\n",
       "  </tbody>\n",
       "</table>\n",
       "<p>5 rows × 54 columns</p>\n",
       "</div>"
      ],
      "text/plain": [
       "          ID                 ON  \\\n",
       "4188  4189.0      New London Rd   \n",
       "4189  4190.0      New London Rd   \n",
       "4190  4191.0      New London Rd   \n",
       "4191  4192.0  Old Paper Mill Rd   \n",
       "4192  4193.0  Old Paper Mill Rd   \n",
       "\n",
       "                                                   AREA  ADDRESS  \\\n",
       "4188  New London Road on EAST side North of Clevelan...      124   \n",
       "4189  New London Road on EAST side North of Clevelan...      126   \n",
       "4190  New London Road on EAST side North of Clevelan...      126   \n",
       "4191                           Old Paper Mill Road Park        0   \n",
       "4192                           Old Paper Mill Road Park        0   \n",
       "\n",
       "                 STREET  SITE   SIDE  ASSIGNED               COMMON  \\\n",
       "4188      New London Rd   1.0  Front     False  Japanese pagodatree   \n",
       "4189      New London Rd   1.0  Front     False        oak, sawtooth   \n",
       "4190      New London Rd   2.0  Front     False  Japanese pagodatree   \n",
       "4191  Old Paper Mill Rd   1.0  Front     False   sycamore, American   \n",
       "4192  Old Paper Mill Rd   2.0  Front     False           ash, white   \n",
       "\n",
       "                    BOTANICAL  ... IMPROPMULC  IMPROPPRUN NUTRIENTD   PEST  \\\n",
       "4188  Styphnolobium japonicum  ...      False       False     False  False   \n",
       "4189       Quercus acutissima  ...      False       False     False  False   \n",
       "4190  Styphnolobium japonicum  ...      False       False     False  False   \n",
       "4191    Platanus occidentalis  ...      False       False     False  False   \n",
       "4192       Fraxinus americana  ...      False       False     False  False   \n",
       "\n",
       "     GIRDLING STRESS  OHUTILITY  TOP_HEIGHT CROWN_M CROWN_DIE  \n",
       "4188    False  False         No          50  16-20%     6-10%  \n",
       "4189    False  False         No          55  11-15%     6-10%  \n",
       "4190    False  False         No          45  16-20%    11-15%  \n",
       "4191    False  False         No          80  21-25%     6-10%  \n",
       "4192    False   True         No          70  21-25%    11-15%  \n",
       "\n",
       "[5 rows x 54 columns]"
      ]
     },
     "execution_count": 11,
     "metadata": {},
     "output_type": "execute_result"
    }
   ],
   "source": [
    "data.tail()"
   ]
  },
  {
   "cell_type": "code",
   "execution_count": 5,
   "metadata": {},
   "outputs": [
    {
     "data": {
      "text/plain": [
       "4193"
      ]
     },
     "execution_count": 5,
     "metadata": {},
     "output_type": "execute_result"
    }
   ],
   "source": [
    "# How many columns does the DataFrame contain?\n",
    "len(data)"
   ]
  },
  {
   "cell_type": "code",
   "execution_count": 10,
   "metadata": {},
   "outputs": [
    {
     "data": {
      "text/plain": [
       "['ID',\n",
       " 'ON',\n",
       " 'AREA',\n",
       " 'ADDRESS',\n",
       " 'STREET',\n",
       " 'SITE',\n",
       " 'SIDE',\n",
       " 'ASSIGNED',\n",
       " 'COMMON',\n",
       " 'BOTANICAL',\n",
       " 'CULTIVAR',\n",
       " 'DBH',\n",
       " 'REMOVAL',\n",
       " 'STEMS',\n",
       " 'COND',\n",
       " 'MAINTPRIM',\n",
       " 'OBSERVE',\n",
       " 'INSPECT',\n",
       " 'LOCATION',\n",
       " 'NOTES',\n",
       " 'DATE',\n",
       " 'TIME',\n",
       " 'STAFF',\n",
       " 'XCOORD',\n",
       " 'YCOORD',\n",
       " 'FAILURE',\n",
       " 'LIKELIHOOD',\n",
       " 'TARGET',\n",
       " 'CONSEQ',\n",
       " 'RISK',\n",
       " 'UNIQUEID',\n",
       " 'EDITTIME',\n",
       " 'SPREAD',\n",
       " 'HEIGHT',\n",
       " 'CLEARANCE',\n",
       " 'DECAYCL',\n",
       " 'DECAYT',\n",
       " 'DECAYRF',\n",
       " 'DAMC',\n",
       " 'DAMT',\n",
       " 'DAMRF',\n",
       " 'CAVITYCL',\n",
       " 'CAVITYT',\n",
       " 'CAVITYRF',\n",
       " 'IMPROPMULC',\n",
       " 'IMPROPPRUN',\n",
       " 'NUTRIENTD',\n",
       " 'PEST',\n",
       " 'GIRDLING',\n",
       " 'STRESS',\n",
       " 'OHUTILITY',\n",
       " 'TOP_HEIGHT',\n",
       " 'CROWN_M',\n",
       " 'CROWN_DIE']"
      ]
     },
     "execution_count": 10,
     "metadata": {},
     "output_type": "execute_result"
    }
   ],
   "source": [
    "# What attributes (columns) does this DataFrame contain?\n",
    "columns = data.columns.to_list()\n",
    "columns"
   ]
  },
  {
   "cell_type": "markdown",
   "metadata": {},
   "source": [
    "Upon reviewing the columns of the DataFrame, we see that there is already a column named ID that is well suited for an index column.  \n",
    "\n",
    "For the purposes of this lab, we are only going to need a few of the available attributes. The attributes we wish to keep are listed below:\n",
    "* ID\n",
    "* UNIQUEID\n",
    "* COMMON\n",
    "* BOTANICAL\n",
    "* COND\n",
    "* RISK\n",
    "* HEIGHT\n",
    "\n",
    "Let's provide the index_col and the usecols args when we invoke the read_csv method."
   ]
  },
  {
   "cell_type": "code",
   "execution_count": 12,
   "metadata": {},
   "outputs": [],
   "source": [
    "# Create the new DataFrame here.\n",
    "data_v2 = pd.read_csv('data/newark_tree_data.csv',usecols=['ID','UNIQUEID','COMMON','BOTANICAL','COND','RISK','HEIGHT'])"
   ]
  },
  {
   "cell_type": "code",
   "execution_count": 13,
   "metadata": {},
   "outputs": [
    {
     "data": {
      "text/html": [
       "<div>\n",
       "<style scoped>\n",
       "    .dataframe tbody tr th:only-of-type {\n",
       "        vertical-align: middle;\n",
       "    }\n",
       "\n",
       "    .dataframe tbody tr th {\n",
       "        vertical-align: top;\n",
       "    }\n",
       "\n",
       "    .dataframe thead th {\n",
       "        text-align: right;\n",
       "    }\n",
       "</style>\n",
       "<table border=\"1\" class=\"dataframe\">\n",
       "  <thead>\n",
       "    <tr style=\"text-align: right;\">\n",
       "      <th></th>\n",
       "      <th>ID</th>\n",
       "      <th>COMMON</th>\n",
       "      <th>BOTANICAL</th>\n",
       "      <th>COND</th>\n",
       "      <th>RISK</th>\n",
       "      <th>UNIQUEID</th>\n",
       "      <th>HEIGHT</th>\n",
       "    </tr>\n",
       "  </thead>\n",
       "  <tbody>\n",
       "    <tr>\n",
       "      <th>0</th>\n",
       "      <td>11.0</td>\n",
       "      <td>arborvitae, eastern</td>\n",
       "      <td>Thuja occidentalis</td>\n",
       "      <td>Good</td>\n",
       "      <td>Low</td>\n",
       "      <td>LM 20150929141218</td>\n",
       "      <td>40</td>\n",
       "    </tr>\n",
       "    <tr>\n",
       "      <th>1</th>\n",
       "      <td>12.0</td>\n",
       "      <td>arborvitae, eastern</td>\n",
       "      <td>Thuja occidentalis</td>\n",
       "      <td>Very Good</td>\n",
       "      <td>Low</td>\n",
       "      <td>LM 20150929141418</td>\n",
       "      <td>40</td>\n",
       "    </tr>\n",
       "    <tr>\n",
       "      <th>2</th>\n",
       "      <td>13.0</td>\n",
       "      <td>pine, eastern white</td>\n",
       "      <td>Pinus strobus</td>\n",
       "      <td>Good</td>\n",
       "      <td>Low</td>\n",
       "      <td>LM 20150929141844</td>\n",
       "      <td>54</td>\n",
       "    </tr>\n",
       "    <tr>\n",
       "      <th>3</th>\n",
       "      <td>14.0</td>\n",
       "      <td>whitecedar, Atlantic</td>\n",
       "      <td>Chamaecyparis thyoides</td>\n",
       "      <td>Fair</td>\n",
       "      <td>Low</td>\n",
       "      <td>LM 20150929142424</td>\n",
       "      <td>56</td>\n",
       "    </tr>\n",
       "    <tr>\n",
       "      <th>4</th>\n",
       "      <td>15.0</td>\n",
       "      <td>whitecedar, Atlantic</td>\n",
       "      <td>Chamaecyparis thyoides</td>\n",
       "      <td>Fair</td>\n",
       "      <td>Low</td>\n",
       "      <td>LM 20150929143018</td>\n",
       "      <td>55</td>\n",
       "    </tr>\n",
       "  </tbody>\n",
       "</table>\n",
       "</div>"
      ],
      "text/plain": [
       "     ID                COMMON               BOTANICAL       COND RISK  \\\n",
       "0  11.0   arborvitae, eastern      Thuja occidentalis       Good  Low   \n",
       "1  12.0   arborvitae, eastern      Thuja occidentalis  Very Good  Low   \n",
       "2  13.0   pine, eastern white           Pinus strobus       Good  Low   \n",
       "3  14.0  whitecedar, Atlantic  Chamaecyparis thyoides       Fair  Low   \n",
       "4  15.0  whitecedar, Atlantic  Chamaecyparis thyoides       Fair  Low   \n",
       "\n",
       "            UNIQUEID  HEIGHT  \n",
       "0  LM 20150929141218      40  \n",
       "1  LM 20150929141418      40  \n",
       "2  LM 20150929141844      54  \n",
       "3  LM 20150929142424      56  \n",
       "4  LM 20150929143018      55  "
      ]
     },
     "execution_count": 13,
     "metadata": {},
     "output_type": "execute_result"
    }
   ],
   "source": [
    "# Display the first few rows of the new DataFrame here.\n",
    "data_v2.head()"
   ]
  },
  {
   "cell_type": "markdown",
   "metadata": {},
   "source": [
    "The data narritive specifies that 4,193 sites were inventoried. Use the DataFrame shape attribute to verify the number of rows."
   ]
  },
  {
   "cell_type": "code",
   "execution_count": 14,
   "metadata": {},
   "outputs": [
    {
     "data": {
      "text/plain": [
       "(4193, 7)"
      ]
     },
     "execution_count": 14,
     "metadata": {},
     "output_type": "execute_result"
    }
   ],
   "source": [
    "# How many rows does your DataFrame contain.\n",
    "data_v2.shape"
   ]
  },
  {
   "cell_type": "code",
   "execution_count": 36,
   "metadata": {},
   "outputs": [
    {
     "data": {
      "text/html": [
       "<div>\n",
       "<style scoped>\n",
       "    .dataframe tbody tr th:only-of-type {\n",
       "        vertical-align: middle;\n",
       "    }\n",
       "\n",
       "    .dataframe tbody tr th {\n",
       "        vertical-align: top;\n",
       "    }\n",
       "\n",
       "    .dataframe thead th {\n",
       "        text-align: right;\n",
       "    }\n",
       "</style>\n",
       "<table border=\"1\" class=\"dataframe\">\n",
       "  <thead>\n",
       "    <tr style=\"text-align: right;\">\n",
       "      <th></th>\n",
       "      <th>ID</th>\n",
       "      <th>COMMON</th>\n",
       "      <th>BOTANICAL</th>\n",
       "      <th>COND</th>\n",
       "      <th>RISK</th>\n",
       "      <th>UNIQUEID</th>\n",
       "      <th>HEIGHT</th>\n",
       "    </tr>\n",
       "  </thead>\n",
       "  <tbody>\n",
       "    <tr>\n",
       "      <th>0</th>\n",
       "      <td>11.0</td>\n",
       "      <td>arborvitae, eastern</td>\n",
       "      <td>Thuja occidentalis</td>\n",
       "      <td>Good</td>\n",
       "      <td>Low</td>\n",
       "      <td>LM 20150929141218</td>\n",
       "      <td>40</td>\n",
       "    </tr>\n",
       "    <tr>\n",
       "      <th>1</th>\n",
       "      <td>12.0</td>\n",
       "      <td>arborvitae, eastern</td>\n",
       "      <td>Thuja occidentalis</td>\n",
       "      <td>Very Good</td>\n",
       "      <td>Low</td>\n",
       "      <td>LM 20150929141418</td>\n",
       "      <td>40</td>\n",
       "    </tr>\n",
       "    <tr>\n",
       "      <th>2</th>\n",
       "      <td>13.0</td>\n",
       "      <td>pine, eastern white</td>\n",
       "      <td>Pinus strobus</td>\n",
       "      <td>Good</td>\n",
       "      <td>Low</td>\n",
       "      <td>LM 20150929141844</td>\n",
       "      <td>54</td>\n",
       "    </tr>\n",
       "    <tr>\n",
       "      <th>3</th>\n",
       "      <td>14.0</td>\n",
       "      <td>whitecedar, Atlantic</td>\n",
       "      <td>Chamaecyparis thyoides</td>\n",
       "      <td>Fair</td>\n",
       "      <td>Low</td>\n",
       "      <td>LM 20150929142424</td>\n",
       "      <td>56</td>\n",
       "    </tr>\n",
       "    <tr>\n",
       "      <th>4</th>\n",
       "      <td>15.0</td>\n",
       "      <td>whitecedar, Atlantic</td>\n",
       "      <td>Chamaecyparis thyoides</td>\n",
       "      <td>Fair</td>\n",
       "      <td>Low</td>\n",
       "      <td>LM 20150929143018</td>\n",
       "      <td>55</td>\n",
       "    </tr>\n",
       "    <tr>\n",
       "      <th>...</th>\n",
       "      <td>...</td>\n",
       "      <td>...</td>\n",
       "      <td>...</td>\n",
       "      <td>...</td>\n",
       "      <td>...</td>\n",
       "      <td>...</td>\n",
       "      <td>...</td>\n",
       "    </tr>\n",
       "    <tr>\n",
       "      <th>4188</th>\n",
       "      <td>4189.0</td>\n",
       "      <td>Japanese pagodatree</td>\n",
       "      <td>Styphnolobium japonicum</td>\n",
       "      <td>Good</td>\n",
       "      <td>Low</td>\n",
       "      <td>SR 20151104153437</td>\n",
       "      <td>50</td>\n",
       "    </tr>\n",
       "    <tr>\n",
       "      <th>4189</th>\n",
       "      <td>4190.0</td>\n",
       "      <td>oak, sawtooth</td>\n",
       "      <td>Quercus acutissima</td>\n",
       "      <td>Good</td>\n",
       "      <td>Low</td>\n",
       "      <td>SR 20151104153555</td>\n",
       "      <td>55</td>\n",
       "    </tr>\n",
       "    <tr>\n",
       "      <th>4190</th>\n",
       "      <td>4191.0</td>\n",
       "      <td>Japanese pagodatree</td>\n",
       "      <td>Styphnolobium japonicum</td>\n",
       "      <td>Fair</td>\n",
       "      <td>Low</td>\n",
       "      <td>SR 20151104153647</td>\n",
       "      <td>45</td>\n",
       "    </tr>\n",
       "    <tr>\n",
       "      <th>4191</th>\n",
       "      <td>4192.0</td>\n",
       "      <td>sycamore, American</td>\n",
       "      <td>Platanus occidentalis</td>\n",
       "      <td>Good</td>\n",
       "      <td>Low</td>\n",
       "      <td>SR 20151104160909</td>\n",
       "      <td>80</td>\n",
       "    </tr>\n",
       "    <tr>\n",
       "      <th>4192</th>\n",
       "      <td>4193.0</td>\n",
       "      <td>ash, white</td>\n",
       "      <td>Fraxinus americana</td>\n",
       "      <td>Fair</td>\n",
       "      <td>Low</td>\n",
       "      <td>SR 20151104161140</td>\n",
       "      <td>70</td>\n",
       "    </tr>\n",
       "  </tbody>\n",
       "</table>\n",
       "<p>4193 rows × 7 columns</p>\n",
       "</div>"
      ],
      "text/plain": [
       "          ID                COMMON                BOTANICAL       COND RISK  \\\n",
       "0       11.0   arborvitae, eastern       Thuja occidentalis       Good  Low   \n",
       "1       12.0   arborvitae, eastern       Thuja occidentalis  Very Good  Low   \n",
       "2       13.0   pine, eastern white            Pinus strobus       Good  Low   \n",
       "3       14.0  whitecedar, Atlantic   Chamaecyparis thyoides       Fair  Low   \n",
       "4       15.0  whitecedar, Atlantic   Chamaecyparis thyoides       Fair  Low   \n",
       "...      ...                   ...                      ...        ...  ...   \n",
       "4188  4189.0   Japanese pagodatree  Styphnolobium japonicum       Good  Low   \n",
       "4189  4190.0         oak, sawtooth       Quercus acutissima       Good  Low   \n",
       "4190  4191.0   Japanese pagodatree  Styphnolobium japonicum       Fair  Low   \n",
       "4191  4192.0    sycamore, American    Platanus occidentalis       Good  Low   \n",
       "4192  4193.0            ash, white       Fraxinus americana       Fair  Low   \n",
       "\n",
       "               UNIQUEID  HEIGHT  \n",
       "0     LM 20150929141218      40  \n",
       "1     LM 20150929141418      40  \n",
       "2     LM 20150929141844      54  \n",
       "3     LM 20150929142424      56  \n",
       "4     LM 20150929143018      55  \n",
       "...                 ...     ...  \n",
       "4188  SR 20151104153437      50  \n",
       "4189  SR 20151104153555      55  \n",
       "4190  SR 20151104153647      45  \n",
       "4191  SR 20151104160909      80  \n",
       "4192  SR 20151104161140      70  \n",
       "\n",
       "[4193 rows x 7 columns]"
      ]
     },
     "execution_count": 36,
     "metadata": {},
     "output_type": "execute_result"
    }
   ],
   "source": [
    "data_v2"
   ]
  },
  {
   "cell_type": "markdown",
   "metadata": {},
   "source": [
    "Let's look at the distribution of data for the HEIGHT attribute."
   ]
  },
  {
   "cell_type": "code",
   "execution_count": 49,
   "metadata": {},
   "outputs": [
    {
     "name": "stdout",
     "output_type": "stream",
     "text": [
      "0\n"
     ]
    }
   ],
   "source": [
    "# What is the min height?\n",
    "print(data_v2['HEIGHT'].min())"
   ]
  },
  {
   "cell_type": "code",
   "execution_count": 50,
   "metadata": {},
   "outputs": [
    {
     "name": "stdout",
     "output_type": "stream",
     "text": [
      "140\n"
     ]
    }
   ],
   "source": [
    "# What is the max height?\n",
    "print(data_v2['HEIGHT'].max())"
   ]
  },
  {
   "cell_type": "code",
   "execution_count": 51,
   "metadata": {},
   "outputs": [
    {
     "data": {
      "text/plain": [
       "count    4193.000000\n",
       "mean       55.311472\n",
       "std        36.293489\n",
       "min         0.000000\n",
       "25%        23.000000\n",
       "50%        50.000000\n",
       "75%        86.000000\n",
       "max       140.000000\n",
       "Name: HEIGHT, dtype: float64"
      ]
     },
     "execution_count": 51,
     "metadata": {},
     "output_type": "execute_result"
    }
   ],
   "source": [
    "# How do we acquire count, mean, standard deviation, and distribution information from the DataFrame \n",
    "# by invoking a single method?\n",
    "data_v2['HEIGHT'].describe()"
   ]
  },
  {
   "cell_type": "markdown",
   "metadata": {},
   "source": [
    "# Plot a histogram using the HEIGHT attribute. \n",
    "\n",
    "resources:\n",
    "* [Magic commands](https://ipython.readthedocs.io/en/stable/interactive/magics.html)\n",
    "* [Pandas Series Hist](https://pandas.pydata.org/pandas-docs/stable/reference/api/pandas.Series.plot.hist.html#pandas.Series.plot.hist)"
   ]
  },
  {
   "cell_type": "code",
   "execution_count": 120,
   "metadata": {},
   "outputs": [],
   "source": [
    "from matplotlib import pyplot as plt"
   ]
  },
  {
   "cell_type": "code",
   "execution_count": 70,
   "metadata": {},
   "outputs": [],
   "source": [
    "# Apply magic command to display matplotlib images inline\n",
    "%matplotlib inline"
   ]
  },
  {
   "cell_type": "code",
   "execution_count": 101,
   "metadata": {},
   "outputs": [
    {
     "data": {
      "text/plain": [
       "(array([106.,   0.,   3.,   0.,   0.,   7.,   0.,   0.,   7.,   0.,   0.,\n",
       "         11.,   0.,   0.,  19.,   0.,   0.,  70.,   0.,   0.,  39.,   0.,\n",
       "          0.,  44.,   0.,   0.,  53.,   0.,   0.,  50.,   0.,   0.,  43.,\n",
       "          0.,   0.,  49.,   0.,   0.,  39.,   0.,   0.,  44.,   0.,   0.,\n",
       "        104.,   0.,   0.,  25.,   0.,   0.,  99.,   0.,   0.,  51.,   0.,\n",
       "          0.,  26.,   0.,   0.,  93.,   0.,   0.,  24.,   0.,   0.,  41.,\n",
       "          0.,   0.,  35.,   0.,   0.,  21.,   0.,   0.,  70.,   0.,   0.,\n",
       "         31.,   0.,   0.,  34.,   0.,   0.,  40.,   0.,   0.,  16.,   0.,\n",
       "          0.,  82.,   0.,   0.,  20.,   0.,   0.,  30.,   0.,   0.,  31.,\n",
       "          0.,   0.,  26.,   0.,   0.,  53.,   0.,   0.,  25.,   0.,   0.,\n",
       "         23.,   0.,   0.,  24.,   0.,   0.,  18.,   0.,   0.,  71.,   0.,\n",
       "          0.,  31.,   0.,   0.,  23.,   0.,   0.,  29.,   0.,   0.,  24.,\n",
       "          0.,   0., 110.,   0.,   0.,  34.,   0.,   0.,  27.,   0.,   0.,\n",
       "         43.,   0.,   0.,  20.,   0.,   0., 109.,   0.,   0.,  23.,   0.,\n",
       "          0.,  35.,   0.,   0.,  23.,   0.,   0.,  23.,   0.,   0.,  74.,\n",
       "          0.,   0.,  28.,   0.,   0.,  20.,   0.,   0.,  27.,   0.,   0.,\n",
       "         12.,   0.,   0.,  73.,   0.,   0.,  12.,   0.,   0.,  28.,   0.,\n",
       "          0.,  34.,   0.,   0.,  24.,   0.,   0.,  51.,   0.,   0.,  17.,\n",
       "          0.,   0.,  30.,   0.,   0.,  29.,   0.,   0.,   9.,   0.,   0.,\n",
       "         80.,   0.,   0.,  14.,   0.,   0.,  22.,   0.,   0.,  26.,   0.,\n",
       "          0.,  16.,   0.,   0.,  54.,   0.,   0.,  17.,   0.,   0.,  17.,\n",
       "          0.,   0.,  27.,   0.,   0.,  12.,   0.,   0.,  39.,   0.,   0.,\n",
       "         11.,   0.,   0.,  22.,   0.,   0.,  13.,   0.,   0.,  18.,   0.,\n",
       "          0.,  30.,   0.,   0.,  26.,   0.,   0.,  28.,   0.,   0.,  32.,\n",
       "          0.,   0.,  17.,   0.,   0.,  68.,   0.,   0.,  11.,   0.,   0.,\n",
       "         27.,   0.,   0.,  21.,   0.,   0.,  13.,   0.,   0.,  28.,   0.,\n",
       "          0.,  26.,   0.,   0.,  13.,   0.,   0.,  19.,   0.,   0.,  16.,\n",
       "          0.,   0.,  56.,   0.,   0.,  10.,   0.,   0.,  21.,   0.,   0.,\n",
       "         18.,   0.,   0.,  10.,   0.,   0.,  35.,   0.,   0.,  11.,   0.,\n",
       "          0.,   8.,   0.,   0.,  22.,   0.,   0.,   4.,   0.,   0.,  37.,\n",
       "          0.,   0.,  18.,   0.,   0.,  30.,   0.,   0.,  22.,   0.,   0.,\n",
       "         29.,   0.,   0., 183.,   0.,   0.,  13.,   0.,   0.,  16.,   0.,\n",
       "          0.,  24.,   0.,   0.,  30.,   0.,   0.,  21.,   0.,   0.,  16.,\n",
       "          0.,   0.,  12.,   0.,   0.,  13.,   0.,   0.,   5.,   0.,   0.,\n",
       "         16.,   0.,   0.,   1.,   0.,   0.,   3.,   0.,   0.,   2.,   0.,\n",
       "          0.,   1.,   0.,   0.,  17.,   0.,   0.,   0.,   0.,   0.,   2.,\n",
       "          0.,   0.,   1.,   0.,   0.,   1.,   0.,   0.,   1.,   0.,   0.,\n",
       "          0.,   0.,   0.,   0.,   0.,   0.,   0.,   0.,   0.,   0.,   0.,\n",
       "          2.]),\n",
       " array([  0.        ,   0.33412888,   0.66825776,   1.00238663,\n",
       "          1.33651551,   1.67064439,   2.00477327,   2.33890215,\n",
       "          2.67303103,   3.0071599 ,   3.34128878,   3.67541766,\n",
       "          4.00954654,   4.34367542,   4.6778043 ,   5.01193317,\n",
       "          5.34606205,   5.68019093,   6.01431981,   6.34844869,\n",
       "          6.68257757,   7.01670644,   7.35083532,   7.6849642 ,\n",
       "          8.01909308,   8.35322196,   8.68735084,   9.02147971,\n",
       "          9.35560859,   9.68973747,  10.02386635,  10.35799523,\n",
       "         10.69212411,  11.02625298,  11.36038186,  11.69451074,\n",
       "         12.02863962,  12.3627685 ,  12.69689737,  13.03102625,\n",
       "         13.36515513,  13.69928401,  14.03341289,  14.36754177,\n",
       "         14.70167064,  15.03579952,  15.3699284 ,  15.70405728,\n",
       "         16.03818616,  16.37231504,  16.70644391,  17.04057279,\n",
       "         17.37470167,  17.70883055,  18.04295943,  18.37708831,\n",
       "         18.71121718,  19.04534606,  19.37947494,  19.71360382,\n",
       "         20.0477327 ,  20.38186158,  20.71599045,  21.05011933,\n",
       "         21.38424821,  21.71837709,  22.05250597,  22.38663484,\n",
       "         22.72076372,  23.0548926 ,  23.38902148,  23.72315036,\n",
       "         24.05727924,  24.39140811,  24.72553699,  25.05966587,\n",
       "         25.39379475,  25.72792363,  26.06205251,  26.39618138,\n",
       "         26.73031026,  27.06443914,  27.39856802,  27.7326969 ,\n",
       "         28.06682578,  28.40095465,  28.73508353,  29.06921241,\n",
       "         29.40334129,  29.73747017,  30.07159905,  30.40572792,\n",
       "         30.7398568 ,  31.07398568,  31.40811456,  31.74224344,\n",
       "         32.07637232,  32.41050119,  32.74463007,  33.07875895,\n",
       "         33.41288783,  33.74701671,  34.08114558,  34.41527446,\n",
       "         34.74940334,  35.08353222,  35.4176611 ,  35.75178998,\n",
       "         36.08591885,  36.42004773,  36.75417661,  37.08830549,\n",
       "         37.42243437,  37.75656325,  38.09069212,  38.424821  ,\n",
       "         38.75894988,  39.09307876,  39.42720764,  39.76133652,\n",
       "         40.09546539,  40.42959427,  40.76372315,  41.09785203,\n",
       "         41.43198091,  41.76610979,  42.10023866,  42.43436754,\n",
       "         42.76849642,  43.1026253 ,  43.43675418,  43.77088305,\n",
       "         44.10501193,  44.43914081,  44.77326969,  45.10739857,\n",
       "         45.44152745,  45.77565632,  46.1097852 ,  46.44391408,\n",
       "         46.77804296,  47.11217184,  47.44630072,  47.78042959,\n",
       "         48.11455847,  48.44868735,  48.78281623,  49.11694511,\n",
       "         49.45107399,  49.78520286,  50.11933174,  50.45346062,\n",
       "         50.7875895 ,  51.12171838,  51.45584726,  51.78997613,\n",
       "         52.12410501,  52.45823389,  52.79236277,  53.12649165,\n",
       "         53.46062053,  53.7947494 ,  54.12887828,  54.46300716,\n",
       "         54.79713604,  55.13126492,  55.46539379,  55.79952267,\n",
       "         56.13365155,  56.46778043,  56.80190931,  57.13603819,\n",
       "         57.47016706,  57.80429594,  58.13842482,  58.4725537 ,\n",
       "         58.80668258,  59.14081146,  59.47494033,  59.80906921,\n",
       "         60.14319809,  60.47732697,  60.81145585,  61.14558473,\n",
       "         61.4797136 ,  61.81384248,  62.14797136,  62.48210024,\n",
       "         62.81622912,  63.150358  ,  63.48448687,  63.81861575,\n",
       "         64.15274463,  64.48687351,  64.82100239,  65.15513126,\n",
       "         65.48926014,  65.82338902,  66.1575179 ,  66.49164678,\n",
       "         66.82577566,  67.15990453,  67.49403341,  67.82816229,\n",
       "         68.16229117,  68.49642005,  68.83054893,  69.1646778 ,\n",
       "         69.49880668,  69.83293556,  70.16706444,  70.50119332,\n",
       "         70.8353222 ,  71.16945107,  71.50357995,  71.83770883,\n",
       "         72.17183771,  72.50596659,  72.84009547,  73.17422434,\n",
       "         73.50835322,  73.8424821 ,  74.17661098,  74.51073986,\n",
       "         74.84486874,  75.17899761,  75.51312649,  75.84725537,\n",
       "         76.18138425,  76.51551313,  76.849642  ,  77.18377088,\n",
       "         77.51789976,  77.85202864,  78.18615752,  78.5202864 ,\n",
       "         78.85441527,  79.18854415,  79.52267303,  79.85680191,\n",
       "         80.19093079,  80.52505967,  80.85918854,  81.19331742,\n",
       "         81.5274463 ,  81.86157518,  82.19570406,  82.52983294,\n",
       "         82.86396181,  83.19809069,  83.53221957,  83.86634845,\n",
       "         84.20047733,  84.53460621,  84.86873508,  85.20286396,\n",
       "         85.53699284,  85.87112172,  86.2052506 ,  86.53937947,\n",
       "         86.87350835,  87.20763723,  87.54176611,  87.87589499,\n",
       "         88.21002387,  88.54415274,  88.87828162,  89.2124105 ,\n",
       "         89.54653938,  89.88066826,  90.21479714,  90.54892601,\n",
       "         90.88305489,  91.21718377,  91.55131265,  91.88544153,\n",
       "         92.21957041,  92.55369928,  92.88782816,  93.22195704,\n",
       "         93.55608592,  93.8902148 ,  94.22434368,  94.55847255,\n",
       "         94.89260143,  95.22673031,  95.56085919,  95.89498807,\n",
       "         96.22911695,  96.56324582,  96.8973747 ,  97.23150358,\n",
       "         97.56563246,  97.89976134,  98.23389021,  98.56801909,\n",
       "         98.90214797,  99.23627685,  99.57040573,  99.90453461,\n",
       "        100.23866348, 100.57279236, 100.90692124, 101.24105012,\n",
       "        101.575179  , 101.90930788, 102.24343675, 102.57756563,\n",
       "        102.91169451, 103.24582339, 103.57995227, 103.91408115,\n",
       "        104.24821002, 104.5823389 , 104.91646778, 105.25059666,\n",
       "        105.58472554, 105.91885442, 106.25298329, 106.58711217,\n",
       "        106.92124105, 107.25536993, 107.58949881, 107.92362768,\n",
       "        108.25775656, 108.59188544, 108.92601432, 109.2601432 ,\n",
       "        109.59427208, 109.92840095, 110.26252983, 110.59665871,\n",
       "        110.93078759, 111.26491647, 111.59904535, 111.93317422,\n",
       "        112.2673031 , 112.60143198, 112.93556086, 113.26968974,\n",
       "        113.60381862, 113.93794749, 114.27207637, 114.60620525,\n",
       "        114.94033413, 115.27446301, 115.60859189, 115.94272076,\n",
       "        116.27684964, 116.61097852, 116.9451074 , 117.27923628,\n",
       "        117.61336516, 117.94749403, 118.28162291, 118.61575179,\n",
       "        118.94988067, 119.28400955, 119.61813842, 119.9522673 ,\n",
       "        120.28639618, 120.62052506, 120.95465394, 121.28878282,\n",
       "        121.62291169, 121.95704057, 122.29116945, 122.62529833,\n",
       "        122.95942721, 123.29355609, 123.62768496, 123.96181384,\n",
       "        124.29594272, 124.6300716 , 124.96420048, 125.29832936,\n",
       "        125.63245823, 125.96658711, 126.30071599, 126.63484487,\n",
       "        126.96897375, 127.30310263, 127.6372315 , 127.97136038,\n",
       "        128.30548926, 128.63961814, 128.97374702, 129.30787589,\n",
       "        129.64200477, 129.97613365, 130.31026253, 130.64439141,\n",
       "        130.97852029, 131.31264916, 131.64677804, 131.98090692,\n",
       "        132.3150358 , 132.64916468, 132.98329356, 133.31742243,\n",
       "        133.65155131, 133.98568019, 134.31980907, 134.65393795,\n",
       "        134.98806683, 135.3221957 , 135.65632458, 135.99045346,\n",
       "        136.32458234, 136.65871122, 136.9928401 , 137.32696897,\n",
       "        137.66109785, 137.99522673, 138.32935561, 138.66348449,\n",
       "        138.99761337, 139.33174224, 139.66587112, 140.        ]),\n",
       " <BarContainer object of 419 artists>)"
      ]
     },
     "execution_count": 101,
     "metadata": {},
     "output_type": "execute_result"
    },
    {
     "data": {
      "image/png": "[encoded data removed]",
      "text/plain": [
       "<Figure size 640x480 with 1 Axes>"
      ]
     },
     "metadata": {},
     "output_type": "display_data"
    }
   ],
   "source": [
    "# Create a histogram using the HEIGHT attribute here\n",
    "histg = plt.hist(x=data_v2['HEIGHT'],bins=int(len(data_v2['HEIGHT'])/10))\n",
    "histg"
   ]
  },
  {
   "cell_type": "markdown",
   "metadata": {},
   "source": [
    "The data narrative specifies the following:\n",
    "\"A total of 4,193 sites were inventoried, including 4,087 trees, 100 stumps, and 6 vacant planting sites\"\n",
    "\n",
    "Earlier, we were able to validate the total number of entries in the DataFrame. Let's now dig in a bit deeper and validate the stumps and vacant planting sites."
   ]
  },
  {
   "cell_type": "code",
   "execution_count": 106,
   "metadata": {},
   "outputs": [
    {
     "data": {
      "text/plain": [
       "419"
      ]
     },
     "execution_count": 106,
     "metadata": {},
     "output_type": "execute_result"
    }
   ],
   "source": [
    "# How many entries are stumps\n",
    "num_stumps = len(histg[1]) - 1\n",
    "num_stumps"
   ]
  },
  {
   "cell_type": "code",
   "execution_count": 107,
   "metadata": {},
   "outputs": [
    {
     "data": {
      "text/plain": [
       "np.int64(283)"
      ]
     },
     "execution_count": 107,
     "metadata": {},
     "output_type": "execute_result"
    }
   ],
   "source": [
    "# How many entries are vacant sites\n",
    "# The counts for each bin are in histg[0]\n",
    "counts = histg[0]\n",
    "# Count the number of bins with zero entries\n",
    "num_vacant_sites = sum(count == 0 for count in counts)\n",
    "num_vacant_sites"
   ]
  },
  {
   "cell_type": "code",
   "execution_count": 108,
   "metadata": {},
   "outputs": [
    {
     "name": "stdout",
     "output_type": "stream",
     "text": [
      "Object `No` not found.\n"
     ]
    }
   ],
   "source": [
    "# Do these number add up?\n",
    "No?"
   ]
  },
  {
   "cell_type": "markdown",
   "metadata": {},
   "source": [
    "# Plot a bar graph using the COND attribute.\n",
    "\n",
    "resources:\n",
    "* [Pandas Series Bar](https://pandas.pydata.org/pandas-docs/stable/reference/api/pandas.Series.plot.bar.html#pandas.Series.plot.bar)"
   ]
  },
  {
   "cell_type": "code",
   "execution_count": 149,
   "metadata": {},
   "outputs": [
    {
     "data": {
      "text/plain": [
       "([0, 1, 2, 3, 4, 5, 6, 7],\n",
       " [Text(0, 0, 'Fair'),\n",
       "  Text(1, 0, 'Good'),\n",
       "  Text(2, 0, 'Poor'),\n",
       "  Text(3, 0, 'Very Good'),\n",
       "  Text(4, 0, 'Dead'),\n",
       "  Text(5, 0, 'Excellent'),\n",
       "  Text(6, 0, 'Very Poor'),\n",
       "  Text(7, 0, 'Critical')])"
      ]
     },
     "execution_count": 149,
     "metadata": {},
     "output_type": "execute_result"
    },
    {
     "data": {
      "image/png": "[encoded data removed]",
      "text/plain": [
       "<Figure size 640x480 with 1 Axes>"
      ]
     },
     "metadata": {},
     "output_type": "display_data"
    }
   ],
   "source": [
    "# How can we determine all of the possible values describing the condition of a tree and their associated counts?\n",
    "#ax=data_v2.plt.bar(y='COND',rot=0)\n",
    "plt.xlabel('Condition of Tree')\n",
    "plt.ylabel('Count')\n",
    "plt.bar(data_v2['COND'].value_counts().index,data_v2['COND'].value_counts().values)\n",
    "plt.xticks(rotation=20)"
   ]
  },
  {
   "cell_type": "code",
   "execution_count": 153,
   "metadata": {},
   "outputs": [
    {
     "data": {
      "text/plain": [
       "([0, 1, 2, 3, 4, 5, 6, 7],\n",
       " [Text(0, 0, 'Excellent'),\n",
       "  Text(1, 0, 'Very Good'),\n",
       "  Text(2, 0, 'Good'),\n",
       "  Text(3, 0, 'Fair'),\n",
       "  Text(4, 0, 'Poor'),\n",
       "  Text(5, 0, 'Very Poor'),\n",
       "  Text(6, 0, 'Dead'),\n",
       "  Text(7, 0, 'Critical')])"
      ]
     },
     "execution_count": 153,
     "metadata": {},
     "output_type": "execute_result"
    },
    {
     "data": {
      "image/png": "[encoded data removed]",
      "text/plain": [
       "<Figure size 640x480 with 1 Axes>"
      ]
     },
     "metadata": {},
     "output_type": "display_data"
    }
   ],
   "source": [
    "# Were these already in the order you would want them to be in order for a graph to make sense? \n",
    "# If not, reorder  the Series.\n",
    "\n",
    "# Assuming data_v2 is your DataFrame and 'COND' is your column for the condition of a tree\n",
    "cond_counts = data_v2['COND'].value_counts()\n",
    "\n",
    "# Define the specific order you want\n",
    "desired_order = ['Excellent', 'Very Good', 'Good', 'Fair', 'Poor', 'Very Poor', 'Dead', 'Critical']\n",
    "\n",
    "# Reindex the counts to match the desired order, filling missing values with 0\n",
    "ordered_cond_counts = cond_counts.reindex(desired_order, fill_value=0)\n",
    "\n",
    "plt.bar(ordered_cond_counts.index, ordered_cond_counts.values)\n",
    "plt.xticks(rotation=20)"
   ]
  },
  {
   "cell_type": "code",
   "execution_count": 159,
   "metadata": {},
   "outputs": [
    {
     "data": {
      "image/png": "[encoded data removed]",
      "text/plain": [
       "<Figure size 640x480 with 1 Axes>"
      ]
     },
     "metadata": {},
     "output_type": "display_data"
    }
   ],
   "source": [
    "# Plot the Series here\n",
    "cond_counts = data_v2['COND'].value_counts()\n",
    "cond_counts.plot(kind='bar')\n",
    "plt.show()"
   ]
  },
  {
   "cell_type": "code",
   "execution_count": 160,
   "metadata": {},
   "outputs": [
    {
     "data": {
      "text/plain": [
       "np.int64(106)"
      ]
     },
     "execution_count": 160,
     "metadata": {},
     "output_type": "execute_result"
    }
   ],
   "source": [
    "# How many entries have missing values for the COND attribute? Why are these values missing?\n",
    "data_v2['COND'].isnull().sum()"
   ]
  },
  {
   "cell_type": "markdown",
   "metadata": {},
   "source": [
    "# Plot a pie chart using the RISK attribute."
   ]
  },
  {
   "cell_type": "markdown",
   "metadata": {},
   "source": [
    "resources:\n",
    "* [Pandas Series Pie](https://pandas.pydata.org/pandas-docs/stable/reference/api/pandas.Series.plot.pie.html#pandas.Series.plot.pie)\n",
    "* [matplotlib pie chart docs](https://matplotlib.org/api/pyplot_api.html#matplotlib.pyplot.pie)"
   ]
  },
  {
   "cell_type": "code",
   "execution_count": 164,
   "metadata": {},
   "outputs": [
    {
     "data": {
      "text/plain": [
       "([<matplotlib.patches.Wedge at 0x2895e6420>,\n",
       "  <matplotlib.patches.Wedge at 0x28967a660>,\n",
       "  <matplotlib.patches.Wedge at 0x289694560>],\n",
       " [Text(0.6894638138001912, -0.8571112235060836, 'Low'),\n",
       "  Text(-0.6808642228412268, 0.8639582802744658, 'Moderate'),\n",
       "  Text(-0.8355423033921663, 0.7154502493130555, 'High')],\n",
       " [Text(0.3760711711637406, -0.4675152128215001, '93.8%'),\n",
       "  Text(-0.37138048518612365, 0.47124997105879946, '5.9%'),\n",
       "  Text(-0.4557503473048179, 0.39024559053439384, '0.3%')])"
      ]
     },
     "execution_count": 164,
     "metadata": {},
     "output_type": "execute_result"
    },
    {
     "data": {
      "image/png": "[encoded data removed]",
      "text/plain": [
       "<Figure size 640x480 with 1 Axes>"
      ]
     },
     "metadata": {},
     "output_type": "display_data"
    }
   ],
   "source": [
    "# How can we determine all of the possible values describing the RISK associated with each tree\n",
    "# along with the corresponding row counts?\n",
    "risk_counts=data_v2['RISK'].value_counts()\n",
    "plt.pie(risk_counts, labels=risk_counts.index, autopct='%1.1f%%', startangle=140)"
   ]
  },
  {
   "cell_type": "code",
   "execution_count": 167,
   "metadata": {},
   "outputs": [
    {
     "data": {
      "text/plain": [
       "([<matplotlib.patches.Wedge at 0x2896a30b0>,\n",
       "  <matplotlib.patches.Wedge at 0x289697ec0>,\n",
       "  <matplotlib.patches.Wedge at 0x2896a3c80>],\n",
       " [Text(0.6894638138001912, -0.8571112235060836, 'Low'),\n",
       "  Text(-0.6808642228412268, 0.8639582802744658, 'Moderate'),\n",
       "  Text(-0.8355423033921663, 0.7154502493130555, 'High')],\n",
       " [Text(0.3760711711637406, -0.4675152128215001, '93.8%'),\n",
       "  Text(-0.37138048518612365, 0.47124997105879946, '5.9%'),\n",
       "  Text(-0.4557503473048179, 0.39024559053439384, '0.3%')])"
      ]
     },
     "execution_count": 167,
     "metadata": {},
     "output_type": "execute_result"
    },
    {
     "data": {
      "image/png": "[encoded data removed]",
      "text/plain": [
       "<Figure size 640x480 with 1 Axes>"
      ]
     },
     "metadata": {},
     "output_type": "display_data"
    }
   ],
   "source": [
    "# Create an array containing the colors green, yellow, and orange\n",
    "# When we create our pie chart, the colors should be associated with the attributes according to the specifications below:\n",
    "# Green -> Low\n",
    "# Yellow -> Moderate\n",
    "# Orange -> High\n",
    "\n",
    "\n",
    "# Create an array containing the colors green, yellow, and orange\n",
    "colors = ['green', 'yellow', 'orange']\n",
    "\n",
    "# Map the colors to the risk levels\n",
    "color_map = {\n",
    "    'Low': 'green',\n",
    "    'Moderate': 'yellow',\n",
    "    'High': 'orange'\n",
    "}\n",
    "\n",
    "# Get the colors for each slice\n",
    "slice_colors = [color_map[risk] for risk in risk_counts.index]\n",
    "plt.pie(risk_counts, labels=risk_counts.index, autopct='%1.1f%%', startangle=140, colors = slice_colors)"
   ]
  },
  {
   "cell_type": "code",
   "execution_count": 168,
   "metadata": {},
   "outputs": [
    {
     "data": {
      "text/plain": [
       "<Axes: ylabel='count'>"
      ]
     },
     "execution_count": 168,
     "metadata": {},
     "output_type": "execute_result"
    },
    {
     "data": {
      "image/png": "[encoded data removed]",
      "text/plain": [
       "<Figure size 640x480 with 1 Axes>"
      ]
     },
     "metadata": {},
     "output_type": "display_data"
    }
   ],
   "source": [
    "# Plot the pie chart here\n",
    "# using pandas plotting\n",
    "risk_counts.plot(kind='pie', autopct='%1.1f%%', startangle=140, colors=slice_colors)\n"
   ]
  },
  {
   "cell_type": "code",
   "execution_count": 169,
   "metadata": {},
   "outputs": [
    {
     "data": {
      "text/plain": [
       "np.int64(106)"
      ]
     },
     "execution_count": 169,
     "metadata": {},
     "output_type": "execute_result"
    }
   ],
   "source": [
    "# How many entries have missing values for the RISK attribute? Why are these values missing?\n",
    "data_v2['RISK'].isnull().sum()"
   ]
  },
  {
   "cell_type": "markdown",
   "metadata": {},
   "source": [
    "# Indexing"
   ]
  },
  {
   "cell_type": "code",
   "execution_count": 174,
   "metadata": {},
   "outputs": [
    {
     "data": {
      "text/plain": [
       "ID                          12.0\n",
       "COMMON       arborvitae, eastern\n",
       "BOTANICAL     Thuja occidentalis\n",
       "COND                   Very Good\n",
       "RISK                         Low\n",
       "UNIQUEID       LM 20150929141418\n",
       "HEIGHT                        40\n",
       "Name: 1, dtype: object"
      ]
     },
     "execution_count": 174,
     "metadata": {},
     "output_type": "execute_result"
    }
   ],
   "source": [
    "# Display row by position 1\n",
    "data_v2.iloc[1]"
   ]
  },
  {
   "cell_type": "code",
   "execution_count": 176,
   "metadata": {},
   "outputs": [
    {
     "data": {
      "text/plain": [
       "ID                          12.0\n",
       "COMMON       arborvitae, eastern\n",
       "BOTANICAL     Thuja occidentalis\n",
       "COND                   Very Good\n",
       "RISK                         Low\n",
       "UNIQUEID       LM 20150929141418\n",
       "HEIGHT                        40\n",
       "Name: 1, dtype: object"
      ]
     },
     "execution_count": 176,
     "metadata": {},
     "output_type": "execute_result"
    }
   ],
   "source": [
    "# Display row by label 1\n",
    "data_v2.loc[1]"
   ]
  },
  {
   "cell_type": "code",
   "execution_count": null,
   "metadata": {},
   "outputs": [],
   "source": []
  }
 ],
 "metadata": {
  "kernelspec": {
   "display_name": "Python 3 (ipykernel)",
   "language": "python",
   "name": "python3"
  },
  "language_info": {
   "codemirror_mode": {
    "name": "ipython",
    "version": 3
   },
   "file_extension": ".py",
   "mimetype": "text/x-python",
   "name": "python",
   "nbconvert_exporter": "python",
   "pygments_lexer": "ipython3",
   "version": "3.12.4"
  }
 },
 "nbformat": 4,
 "nbformat_minor": 4
}
